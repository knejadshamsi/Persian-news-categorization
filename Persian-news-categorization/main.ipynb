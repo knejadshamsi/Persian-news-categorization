{
 "cells": [
  {
   "cell_type": "markdown",
   "metadata": {},
   "source": [
    "NEWS CLASSIFIER PROJECT\n",
    "Islamic Azad University, Tehran North Branch"
   ]
  },
  {
   "cell_type": "markdown",
   "metadata": {},
   "source": [
    "importing Requireds"
   ]
  },
  {
   "cell_type": "code",
   "execution_count": 1,
   "metadata": {},
   "outputs": [],
   "source": [
    "import pandas as pd\n",
    "import seaborn as sns\n",
    "import matplotlib.pyplot as plt\n",
    "from sklearn.preprocessing import LabelEncoder\n",
    "from sklearn.metrics import accuracy_score , classification_report\n",
    "from sklearn.naive_bayes import MultinomialNB\n",
    "import tensorflow as tf\n",
    "from datacleaner import load_stopwords , clean_doc"
   ]
  },
  {
   "cell_type": "markdown",
   "metadata": {},
   "source": [
    "Importing datasets"
   ]
  },
  {
   "cell_type": "code",
   "execution_count": 2,
   "metadata": {},
   "outputs": [],
   "source": [
    "dataset = \"NLP datatset title.csv\""
   ]
  },
  {
   "cell_type": "code",
   "execution_count": 3,
   "metadata": {},
   "outputs": [
    {
     "name": "stdout",
     "output_type": "stream",
     "text": [
      "                                               Title category\n",
      "0  تحلیل فارن پالیسی: یک اتفاق خوب برای ایران ؛ د...    سیاسی\n",
      "1  سخنگوی دولت: مسیری جز مقاومت همراه با اعتدال و...    سیاسی\n",
      "2  روایت وزیر دولت دهم از ماجرای خانه‌نشینی روزه ...    سیاسی\n",
      "3          موضع مشترک انگلیس و فرانسه در برابر ترامپ    سیاسی\n",
      "4  جوانان اصلاح‌طلب به صف کاندیداها پیوستند/ آمار...    سیاسی\n"
     ]
    }
   ],
   "source": [
    "# reading and ploting data\n",
    "#df stands for data frame\n",
    "df = pd.read_csv(dataset , encoding='utf-8' ) # read data with pandas\n",
    "print(df.head())\n",
    "df = df.dropna(axis = 0, how ='any') #for dealing with null error for empty data\n"
   ]
  },
  {
   "cell_type": "markdown",
   "metadata": {},
   "source": [
    "Pre processing"
   ]
  },
  {
   "cell_type": "code",
   "execution_count": 4,
   "metadata": {},
   "outputs": [],
   "source": [
    "\n",
    "X = df[\"Title\"].apply(lambda x :clean_doc(x)) # title's data frame (title is a column in data set)\n",
    "\n",
    "#clean_doc is a custom made function design to tokenize and normalize and clean up\n",
    "\n",
    "#in this case clean_doc is being applyed to title column of our data set\n",
    "\n",
    "Y = df[\"category\"] # data frame for category column in data set\n"
   ]
  },
  {
   "cell_type": "markdown",
   "metadata": {},
   "source": [
    "Adding int index for labels from 0 to 3"
   ]
  },
  {
   "cell_type": "code",
   "execution_count": 5,
   "metadata": {},
   "outputs": [
    {
     "name": "stdout",
     "output_type": "stream",
     "text": [
      "[2 2 2 ... 0 0 0]\n"
     ]
    },
    {
     "name": "stderr",
     "output_type": "stream",
     "text": [
      "C:\\Users\\my pc\\AppData\\Roaming\\Python\\Python39\\site-packages\\seaborn\\_decorators.py:36: FutureWarning: Pass the following variable as a keyword arg: x. From version 0.12, the only valid positional argument will be `data`, and passing other arguments without an explicit keyword will result in an error or misinterpretation.\n",
      "  warnings.warn(\n"
     ]
    },
    {
     "data": {
      "image/png": "[encoded data removed]",
      "text/plain": [
       "<Figure size 432x288 with 1 Axes>"
      ]
     },
     "metadata": {
      "needs_background": "light"
     },
     "output_type": "display_data"
    }
   ],
   "source": [
    "le = LabelEncoder() #run an encoder for the category column (from sklearn package)\n",
    "Y = le.fit_transform(Y) #fit the encoder on data\n",
    "print(Y)\n",
    "sns.countplot(Y) # plot them to view to make sure our data is balance d\n",
    "plt.show()\n",
    "# 0 equal to \"سیاسی\"\n",
    "# 1 equal to \"ورزشی\"\n",
    "# 2 equal to \"اقتصادی\"\n",
    "# 3 equal to \"اجتماعی\"\n"
   ]
  },
  {
   "cell_type": "markdown",
   "metadata": {},
   "source": [
    "Vectorizing"
   ]
  },
  {
   "cell_type": "code",
   "execution_count": 6,
   "metadata": {},
   "outputs": [
    {
     "name": "stdout",
     "output_type": "stream",
     "text": [
      "  (0, 1898)\t0.13468457197870273\n",
      "  (0, 3696)\t0.4177563028485777\n",
      "  (0, 2717)\t0.2908124116767919\n",
      "  (0, 11289)\t0.249180736506613\n",
      "  (0, 7731)\t0.281959627396444\n",
      "  (0, 3279)\t0.13899166728022033\n",
      "  (0, 4030)\t0.1261616986941262\n",
      "  (0, 7151)\t0.2519379365073069\n",
      "  (0, 1466)\t0.2739270605713888\n",
      "  (0, 19756)\t0.15152504726589353\n",
      "  (0, 17213)\t0.3702831209921675\n",
      "  (0, 11710)\t0.4177563028485777\n",
      "  (0, 5171)\t0.2698918921021927\n",
      "  (1, 15374)\t0.2958331874578716\n",
      "  (1, 19493)\t0.3342675757130341\n",
      "  (1, 19411)\t0.2565977051950665\n",
      "  (1, 2329)\t0.3799300066048462\n",
      "  (1, 3435)\t0.13322318216036577\n",
      "  (1, 16356)\t0.23189230876158856\n",
      "  (1, 14267)\t0.3395446687715599\n",
      "  (1, 6227)\t0.3386189909838153\n",
      "  (1, 13913)\t0.42058186143924847\n",
      "  (1, 8131)\t0.20334256149154983\n",
      "  (1, 9547)\t0.26616829081591725\n",
      "  (2, 7323)\t0.14671705142210958\n",
      "  :\t:\n",
      "  (45125, 14365)\t0.262823124101837\n",
      "  (45125, 19522)\t0.1696806873707094\n",
      "  (45125, 16601)\t0.22642155463777938\n",
      "  (45125, 3363)\t0.16705228961031543\n",
      "  (45125, 3681)\t0.21767654475227105\n",
      "  (45125, 8669)\t0.2503683707129175\n",
      "  (45125, 17292)\t0.2475629063432818\n",
      "  (45125, 16102)\t0.12336107422738317\n",
      "  (45125, 1898)\t0.12172183357532508\n",
      "  (45126, 416)\t0.36227992973199835\n",
      "  (45126, 17207)\t0.36227992973199835\n",
      "  (45126, 496)\t0.36227992973199835\n",
      "  (45126, 19659)\t0.264664662218522\n",
      "  (45126, 2148)\t0.28661120995216516\n",
      "  (45126, 13122)\t0.20334757951968196\n",
      "  (45126, 19709)\t0.25584883495966537\n",
      "  (45126, 4684)\t0.19761789003516958\n",
      "  (45126, 19533)\t0.17478461039391327\n",
      "  (45126, 3180)\t0.17960524616283546\n",
      "  (45126, 12241)\t0.20035801878037768\n",
      "  (45126, 13847)\t0.2711657121831096\n",
      "  (45126, 7790)\t0.24688174157663753\n",
      "  (45126, 18295)\t0.18663890601263483\n",
      "  (45126, 2301)\t0.1723102028600157\n",
      "  (45126, 4564)\t0.07904004257121872\n"
     ]
    }
   ],
   "source": [
    "# we used tf_idf instead of bag of word because we acheived more accuracy \n",
    "#tf_idf gives our data index and value\n",
    "from sklearn.feature_extraction.text import TfidfVectorizer\n",
    "X, y = df.Title.fillna(' '), df.category\n",
    "tf=TfidfVectorizer()\n",
    "x=tf.fit_transform(X) #fit on data\n",
    "print(x)\n"
   ]
  },
  {
   "cell_type": "code",
   "execution_count": null,
   "metadata": {},
   "outputs": [],
   "source": [
    "X.shape"
   ]
  },
  {
   "cell_type": "code",
   "execution_count": null,
   "metadata": {},
   "outputs": [],
   "source": [
    "y.shape"
   ]
  },
  {
   "cell_type": "markdown",
   "metadata": {},
   "source": [
    "\n",
    "segmentation to 80% test and 20% train"
   ]
  },
  {
   "cell_type": "code",
   "execution_count": 7,
   "metadata": {},
   "outputs": [
    {
     "name": "stdout",
     "output_type": "stream",
     "text": [
      "  (0, 5834)\t0.3422700655591815\n",
      "  (0, 8091)\t0.3422700655591815\n",
      "  (0, 5865)\t0.22585768487093538\n",
      "  (0, 7111)\t0.24774553701970436\n",
      "  (0, 3963)\t0.24171749613528287\n",
      "  (0, 19315)\t0.22513561959588727\n",
      "  (0, 8138)\t0.18851399855068157\n",
      "  (0, 17758)\t0.359881661368321\n",
      "  (0, 7248)\t0.2151512817962963\n",
      "  (0, 8464)\t0.20864000302544503\n",
      "  (0, 3776)\t0.15952179554702745\n",
      "  (0, 14851)\t0.09183035919645453\n",
      "  (0, 18165)\t0.21567309924631026\n",
      "  (0, 13682)\t0.15211452497110015\n",
      "  (0, 18940)\t0.143123354040031\n",
      "  (0, 14844)\t0.2356536657282524\n",
      "  (0, 7524)\t0.07124993914694894\n",
      "  (0, 4564)\t0.0746744115045633\n",
      "  (0, 15899)\t0.18191685116228554\n",
      "  (0, 1578)\t0.18393243475989676\n",
      "  (0, 8131)\t0.14667549882671846\n",
      "  (0, 4030)\t0.10336498238004571\n",
      "  (1, 1266)\t0.5575912609837272\n",
      "  (1, 13897)\t0.3993164568328093\n",
      "  (1, 7897)\t0.3606880324389155\n",
      "  :\t:\n",
      "  (36097, 4030)\t0.15857866479832095\n",
      "  (36098, 10748)\t0.6814702142525588\n",
      "  (36098, 1963)\t0.5642203136177398\n",
      "  (36098, 16790)\t0.4339720206574025\n",
      "  (36098, 4564)\t0.17006489959483645\n",
      "  (36099, 6248)\t0.33215359832137303\n",
      "  (36099, 14536)\t0.6098735919764308\n",
      "  (36099, 11233)\t0.2588892949292156\n",
      "  (36099, 14916)\t0.29997780393793744\n",
      "  (36099, 18274)\t0.21717967923781015\n",
      "  (36099, 18108)\t0.21622193551913493\n",
      "  (36099, 16102)\t0.1414359173341128\n",
      "  (36099, 6185)\t0.17292694728396835\n",
      "  (36099, 7659)\t0.23086286503096545\n",
      "  (36099, 1123)\t0.27516226340522154\n",
      "  (36099, 7524)\t0.09010954464843339\n",
      "  (36099, 1810)\t0.19885117246752618\n",
      "  (36099, 1898)\t0.13955649542726511\n",
      "  (36099, 3279)\t0.14401939059721883\n",
      "  (36100, 3227)\t0.5700641232544389\n",
      "  (36100, 13732)\t0.49999970216651723\n",
      "  (36100, 3363)\t0.29208388193063056\n",
      "  (36100, 15929)\t0.4384932743317607\n",
      "  (36100, 1993)\t0.35277132489307095\n",
      "  (36100, 1810)\t0.15162532712866214\n"
     ]
    }
   ],
   "source": [
    "#useing sklearn split\n",
    "from sklearn.model_selection import train_test_split\n",
    "X_train , X_test , y_train , y_test = train_test_split(x,y,test_size=0.2)\n",
    "print(X_train)"
   ]
  },
  {
   "cell_type": "code",
   "execution_count": null,
   "metadata": {},
   "outputs": [],
   "source": [
    "print(type(X_train )) #to make sure its a csr_matrix not a normal one\n",
    "print(type( X_test )) #to make sure its a csr_matrix not a normal one\n",
    "print(type( y_train ))\n",
    "print(type( y_test))"
   ]
  },
  {
   "cell_type": "markdown",
   "metadata": {},
   "source": [
    "Setting up model\n"
   ]
  },
  {
   "cell_type": "code",
   "execution_count": 8,
   "metadata": {},
   "outputs": [],
   "source": [
    "#Classification using Naive Bayes\n",
    "# based on bag of words \n",
    "#fast / low memory / high accuracy\n",
    "nb = MultinomialNB()\n",
    "\n",
    "# Model (use the train part with the awnser)\n",
    "nb_model = nb.fit(X_train, y_train)\n",
    "\n",
    "# Predict (use the test part for prodict)\n",
    "nb_predict = nb.predict(X_test)\n",
    "\n",
    "# Accuracy (to calculate the accuracy)\n",
    "nb_acc = accuracy_score(y_test,nb_predict)"
   ]
  },
  {
   "cell_type": "markdown",
   "metadata": {},
   "source": [
    "Project performance reports"
   ]
  },
  {
   "cell_type": "code",
   "execution_count": 9,
   "metadata": {},
   "outputs": [
    {
     "name": "stdout",
     "output_type": "stream",
     "text": [
      "              precision    recall  f1-score   support\n",
      "\n",
      "     اجتماعی       0.93      0.94      0.93      2175\n",
      "     اقتصادی       0.94      0.86      0.90      1993\n",
      "       سیاسی       0.89      0.96      0.92      2425\n",
      "       ورزشی       0.98      0.97      0.97      2433\n",
      "\n",
      "    accuracy                           0.93      9026\n",
      "   macro avg       0.93      0.93      0.93      9026\n",
      "weighted avg       0.93      0.93      0.93      9026\n",
      "\n"
     ]
    }
   ],
   "source": [
    "# this part is to generate a report on the test and performance\n",
    "reports = classification_report(y_test, nb_predict)\n",
    "print(reports)"
   ]
  },
  {
   "cell_type": "markdown",
   "metadata": {},
   "source": [
    "Output"
   ]
  },
  {
   "cell_type": "code",
   "execution_count": 10,
   "metadata": {},
   "outputs": [
    {
     "name": "stdout",
     "output_type": "stream",
     "text": [
      "['ورزشی']\n"
     ]
    }
   ],
   "source": [
    "user = input(\"Enter your News Text: \") #recive an input\n",
    "data = tf.transform([user]).toarray()\n",
    "output = nb_model.predict(data) # models the input\n",
    "print(output)\n"
   ]
  }
 ],
 "metadata": {
  "interpreter": {
   "hash": "247ab06e135bb35fa78c5eff31b2a9a0050dcb5fb773c2631d2a29ac689eeccb"
  },
  "kernelspec": {
   "display_name": "Python 3.9.5 64-bit",
   "language": "python",
   "name": "python3"
  },
  "language_info": {
   "codemirror_mode": {
    "name": "ipython",
    "version": 3
   },
   "file_extension": ".py",
   "mimetype": "text/x-python",
   "name": "python",
   "nbconvert_exporter": "python",
   "pygments_lexer": "ipython3",
   "version": "3.9.0"
  },
  "orig_nbformat": 4
 },
 "nbformat": 4,
 "nbformat_minor": 2
}
